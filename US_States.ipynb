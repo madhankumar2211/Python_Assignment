{
 "cells": [
  {
   "cell_type": "code",
   "execution_count": 2,
   "id": "8f34e170",
   "metadata": {},
   "outputs": [],
   "source": [
    "import selenium\n",
    "from selenium import webdriver\n",
    "import pandas as pd\n",
    "import time"
   ]
  },
  {
   "cell_type": "code",
   "execution_count": 8,
   "id": "0cbd2c1a",
   "metadata": {},
   "outputs": [],
   "source": [
    "driverPath = r\"C:\\Users\\Maddy\\Desktop\\chromedriver.exe\"\n",
    "driver = webdriver.Chrome(executable_path=driverPath)\n",
    "driver.get(\"https://ai.fmcsa.dot.gov/hhg/Search.asp?ads=a\")\n",
    "states = driver.find_elements_by_xpath(\"//option[contains(text(),'Please select state')]//following::option\")\n",
    "AllStates = []\n",
    "\n",
    "writer = pd.ExcelWriter(r'C:\\Users\\Maddy\\Desktop\\States1.xlsx', engine='xlsxwriter')\n",
    "\n",
    "\n",
    "for i in states:\n",
    "    AllStates.append(i.text)\n",
    "\n",
    "for i in AllStates[2:3]:\n",
    "    driver.find_element_by_name(\"state\").click()\n",
    "    driver.find_element_by_name(\"state\").send_keys(i)\n",
    "    driver.find_element_by_name(\"state\").click()\n",
    "    driver.find_element_by_name(\"Submit\").click()\n",
    "\n",
    "    lst = []\n",
    "    \n",
    "    cmpy = driver.find_elements_by_xpath('//tr[contains(@scope,\"row\")]')\n",
    "    for j in cmpy:\n",
    "        lst.append(j.text.split('  '))\n",
    "    driver.back()\n",
    "    \n",
    "    df = pd.DataFrame(lst,columns = ['Company Name','Headquarters Location', 'Company Type', 'Fleet Size'])   \n",
    "    df.to_excel(writer, sheet_name= i, index=False)\n",
    "writer.save()\n",
    "writer.close()\n",
    "\n",
    "driver.close()"
   ]
  },
  {
   "cell_type": "code",
   "execution_count": null,
   "id": "2cbdaa9a",
   "metadata": {},
   "outputs": [],
   "source": []
  },
  {
   "cell_type": "code",
   "execution_count": null,
   "id": "53cf9894",
   "metadata": {},
   "outputs": [],
   "source": []
  },
  {
   "cell_type": "code",
   "execution_count": null,
   "id": "01b39ed4",
   "metadata": {},
   "outputs": [],
   "source": []
  },
  {
   "cell_type": "code",
   "execution_count": null,
   "id": "93f2dcfd",
   "metadata": {},
   "outputs": [],
   "source": []
  },
  {
   "cell_type": "code",
   "execution_count": null,
   "id": "1639691e",
   "metadata": {},
   "outputs": [],
   "source": []
  }
 ],
 "metadata": {
  "kernelspec": {
   "display_name": "Python 3 (ipykernel)",
   "language": "python",
   "name": "python3"
  },
  "language_info": {
   "codemirror_mode": {
    "name": "ipython",
    "version": 3
   },
   "file_extension": ".py",
   "mimetype": "text/x-python",
   "name": "python",
   "nbconvert_exporter": "python",
   "pygments_lexer": "ipython3",
   "version": "3.9.5"
  }
 },
 "nbformat": 4,
 "nbformat_minor": 5
}
