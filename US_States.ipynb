{
 "cells": [
  {
   "cell_type": "code",
   "execution_count": 2,
   "id": "8f34e170",
   "metadata": {},
   "outputs": [],
   "source": [
    "import selenium\n",
    "from selenium import webdriver\n",
    "import pandas as pd\n",
    "import time"
   ]
  },
  {
   "cell_type": "code",
   "execution_count": 59,
   "id": "0cbd2c1a",
   "metadata": {},
   "outputs": [
    {
     "name": "stdout",
     "output_type": "stream",
     "text": [
      "['Alabama', 'Alaska', 'Arizona', 'Arkansas', 'California', 'Colorado', 'Connecticut', 'Delaware', 'District of Columbia', 'Florida', 'Georgia', 'Hawaii', 'Idaho', 'Illinois', 'Indiana', 'Iowa', 'Kansas', 'Kentucky', 'Louisiana', 'Maine', 'Maryland', 'Massachusetts', 'Michigan', 'Minnesota', 'Mississippi', 'Missouri', 'Montana', 'Nebraska', 'Nevada', 'New Hampshire', 'New Jersey', 'New Mexico', 'New York', 'North Carolina', 'North Dakota', 'Ohio', 'Oklahoma', 'Oregon', 'Pennsylvania', 'Rhode Island', 'South Carolina', 'South Dakota', 'Tennessee', 'Texas', 'Utah', 'Vermont', 'Virginia', 'Washington', 'West Virginia', 'Wisconsin', 'Wyoming', 'Alberta', 'British Columbia', 'Manitoba', 'New Brunswick', 'Newfoundland', 'Northwest Territories', 'Nova Scotia', 'Nunavut', 'Ontario', 'Prince Edward Island', 'Province of Quebec', 'Saskatchewan', 'Yukon Territory', 'Aguascalientes', 'Baja California Norte', 'Baja California Sur', 'Campeche', 'Chiapas', 'Chihuahua', 'Coahuila', 'Colima', 'Distrito Federal', 'Durango', 'Guanajuato', 'Guerrero', 'Hidalgo', 'Jalisco', 'Mexico', 'Michoacan', 'Morelos', 'Nayarit', 'Nuevo Leon', 'Oaxaca', 'Puebla', 'Queretaro', 'Quintana Roo', 'San Luis Potosi', 'Sinaloa', 'Sonora', 'Tabasco', 'Tamaulipas', 'Tlaxcala', 'Veracruz', 'Yucatan', 'Zacatecas']\n",
      "\n"
     ]
    }
   ],
   "source": [
    "driverPath = r\"C:\\Users\\Maddy\\Desktop\\chromedriver.exe\"\n",
    "driver = webdriver.Chrome(executable_path=driverPath)\n",
    "driver.get(\"https://ai.fmcsa.dot.gov/hhg/Search.asp?ads=a\")\n",
    "states = driver.find_elements_by_xpath(\"//option[contains(text(),'Please select state')]//following::option\")\n",
    "AllStates = []\n",
    "add = []\n",
    "ListOfPhone = []\n",
    "ListOfFax = []\n",
    "ListOfCompany = []\n",
    "\n",
    "for i in states:\n",
    "    AllStates.append(i.text)\n",
    "print(AllStates)\n",
    "print()\n",
    "\n",
    "for i in AllStates:\n",
    "    driver.find_element_by_name(\"state\").click()\n",
    "    driver.find_element_by_name(\"state\").send_keys(i)\n",
    "    driver.find_element_by_name(\"state\").click()\n",
    "    driver.find_element_by_name(\"Submit\").click()\n",
    "    df = pd.DataFrame()\n",
    "    lst = []\n",
    "    \n",
    "    cmpy = driver.find_elements_by_xpath('//tr[contains(@scope,\"row\")]')\n",
    "    for j in cmpy:\n",
    "        lst.append(j.text)\n",
    "    x = []\n",
    "    for k in lst:\n",
    "        x.append(k.split('  '))\n",
    "    driver.back()\n",
    "    df = pd.DataFrame(x,columns = ['Company Name','Headquarters Location', 'Company Type', 'Fleet Size'])   \n",
    "    writer = pd.ExcelWriter(r'C:\\Users\\Maddy\\Desktop\\python\\US_states\\\\'+i+'.xlsx', engine='xlsxwriter')\n",
    "    df.to_excel(writer)\n",
    "    writer.close()\n",
    "    writer.save()\n",
    "driver.close()"
   ]
  },
  {
   "cell_type": "code",
   "execution_count": null,
   "id": "2cbdaa9a",
   "metadata": {},
   "outputs": [],
   "source": []
  },
  {
   "cell_type": "code",
   "execution_count": null,
   "id": "53cf9894",
   "metadata": {},
   "outputs": [],
   "source": []
  },
  {
   "cell_type": "code",
   "execution_count": null,
   "id": "01b39ed4",
   "metadata": {},
   "outputs": [],
   "source": []
  },
  {
   "cell_type": "code",
   "execution_count": null,
   "id": "93f2dcfd",
   "metadata": {},
   "outputs": [],
   "source": []
  },
  {
   "cell_type": "code",
   "execution_count": null,
   "id": "1639691e",
   "metadata": {},
   "outputs": [],
   "source": []
  }
 ],
 "metadata": {
  "kernelspec": {
   "display_name": "Python 3 (ipykernel)",
   "language": "python",
   "name": "python3"
  },
  "language_info": {
   "codemirror_mode": {
    "name": "ipython",
    "version": 3
   },
   "file_extension": ".py",
   "mimetype": "text/x-python",
   "name": "python",
   "nbconvert_exporter": "python",
   "pygments_lexer": "ipython3",
   "version": "3.9.5"
  }
 },
 "nbformat": 4,
 "nbformat_minor": 5
}
