{
 "cells": [
  {
   "cell_type": "code",
   "execution_count": 2,
   "id": "99ee5341",
   "metadata": {},
   "outputs": [],
   "source": [
    "import pandas as pd\n",
    "import warnings\n",
    "warnings.filterwarnings(\"ignore\")\n",
    "from selenium import webdriver\n",
    "from selenium.webdriver.support.ui import Select\n",
    "pd.set_option('display.max_rows',None)\n",
    "import time"
   ]
  },
  {
   "cell_type": "code",
   "execution_count": 3,
   "id": "1c6eed05",
   "metadata": {},
   "outputs": [],
   "source": [
    "matchType = ['tests','odis','t20s']\n",
    "category = ['batsmen','bowlers','all-rounders','teams']\n",
    "driverPath = r\"C:\\Users\\Maddy\\Desktop\\chromedriver.exe\"\n",
    "driver = webdriver.Chrome(executable_path=driverPath)\n",
    "driver.get(\"https://www.cricbuzz.com/\")\n",
    "time.sleep(1)\n",
    "driver.find_element_by_xpath(\"//div[@id='rankingDropDown']\").click()\n",
    "writer = pd.ExcelWriter(r'C:\\Users\\Maddy\\Desktop\\RANKING.xlsx', engine='xlsxwriter')\n",
    "\n",
    "\n",
    "for i in category:\n",
    "    for j in matchType:\n",
    "        S_name = i+'-'+j\n",
    "        finalList = []\n",
    "        driver.find_element_by_xpath(\"//a[@id='\"+i+\"-tab']\").click()\n",
    "        if(i == 'all-rounders'):\n",
    "            y = i.replace('-','')\n",
    "            driver.find_element_by_xpath(\"//a[@id='\"+y+\"-\"+j+\"-tab']\").click()\n",
    "            rankings = driver.find_elements_by_xpath(\"//a[@id='\"+y+\"-\"+j+\"-tab']//following::div[contains(@class,'cb-col cb-col-100 cb-font-14 cb-lst-itm text-center')]\")\n",
    "        elif(i == 'teams'):\n",
    "            driver.find_element_by_xpath(\"//a[@id='\"+i+\"-\"+j+\"-tab']\").click()\n",
    "            rankings = driver.find_elements_by_xpath(\"//a[@id='\"+i+\"-\"+j+\"-tab']//following::div[contains(@class,'cb-col cb-col-100 cb-font-14 cb-brdr-thin-btm text-center')]\")\n",
    "        else:\n",
    "            driver.find_element_by_xpath(\"//a[@id='\"+i+\"-\"+j+\"-tab']\").click()\n",
    "            rankings = driver.find_elements_by_xpath(\"//a[@id='\"+i+\"-\"+j+\"-tab']//following::div[contains(@class,'cb-col cb-col-100 cb-font-14 cb-lst-itm text-center')]\")\n",
    "        for k in rankings:\n",
    "            if k.text != '':\n",
    "                finalList.append(k.text.split(\"\\n\"))\n",
    "        if(i == 'teams'):\n",
    "            df = pd.DataFrame(finalList,columns = [\"Position\",\"Team\",\"Rating\",\"Points\"])\n",
    "        else:\n",
    "            df = pd.DataFrame(finalList,columns = [\"Position\",\"drop\",\"Player\",\"Country\",\"Rating\"]) \n",
    "            df.drop(columns = [\"drop\"],axis=\"columns\",inplace=True)\n",
    "        df.to_excel(writer,sheet_name= S_name, index=False)\n",
    "writer.save()\n",
    "writer.close()\n",
    "driver.close()\n" 
   ]
  },
  {
   "cell_type": "code",
   "execution_count": null,
   "id": "447a0682",
   "metadata": {},
   "outputs": [],
   "source": []
  },
  {
   "cell_type": "code",
   "execution_count": null,
   "id": "c6ccc873",
   "metadata": {},
   "outputs": [],
   "source": []
  },
  {
   "cell_type": "code",
   "execution_count": null,
   "id": "70766e31",
   "metadata": {},
   "outputs": [],
   "source": []
  },
  {
   "cell_type": "code",
   "execution_count": null,
   "id": "7dcbad74",
   "metadata": {},
   "outputs": [],
   "source": []
  },
  {
   "cell_type": "code",
   "execution_count": null,
   "id": "9a3241bd",
   "metadata": {},
   "outputs": [],
   "source": []
  }
 ],
 "metadata": {
  "kernelspec": {
   "display_name": "Python 3 (ipykernel)",
   "language": "python",
   "name": "python3"
  },
  "language_info": {
   "codemirror_mode": {
    "name": "ipython",
    "version": 3
   },
   "file_extension": ".py",
   "mimetype": "text/x-python",
   "name": "python",
   "nbconvert_exporter": "python",
   "pygments_lexer": "ipython3",
   "version": "3.9.5"
  }
 },
 "nbformat": 4,
 "nbformat_minor": 5
}
